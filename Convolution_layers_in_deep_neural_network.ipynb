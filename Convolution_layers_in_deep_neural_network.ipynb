{
  "nbformat": 4,
  "nbformat_minor": 0,
  "metadata": {
    "colab": {
      "name": "Convolution layers in deep neural network.ipynb",
      "provenance": []
    },
    "kernelspec": {
      "name": "python3",
      "display_name": "Python 3"
    }
  },
  "cells": [
    {
      "cell_type": "markdown",
      "metadata": {
        "id": "xPeIkRUWzIQq",
        "colab_type": "text"
      },
      "source": [
        "# The convolution layer plays a very importnat role in the deep neural networks. Let's see a demo here that how this happens... "
      ]
    },
    {
      "cell_type": "code",
      "metadata": {
        "id": "kP71W79BzJZq",
        "colab_type": "code",
        "colab": {}
      },
      "source": [
        "import tensorflow as tf"
      ],
      "execution_count": 1,
      "outputs": []
    },
    {
      "cell_type": "code",
      "metadata": {
        "id": "dskH5L2vzJW1",
        "colab_type": "code",
        "colab": {}
      },
      "source": [
        "def train_mnist_conv():\n",
        "  class myCallbacks(tf.keras.callbacks.Callback):\n",
        "    def on_epoch_end(self,epoch,logs={}):\n",
        "      if (logs.get('accuracy')>0.998):\n",
        "        print('\\n Reached 99.8% accuracy so cancelling training!')\n",
        "        self.model.stop_training = True\n",
        "  mnist = tf.keras.datasets.mnist\n",
        "  (train_images,train_labels),(test_images,test_labels) = mnist.load_data()\n",
        "  callbacks = myCallbacks()\n",
        "  train_images = train_images.reshape(60000,28,28,1)\n",
        "  train_images = train_images/255.0\n",
        "  test_images = test_images.reshape(10000,28,28,1)\n",
        "  test_images = test_images/255.0\n",
        "  model = tf.keras.models.Sequential([\n",
        "                                      tf.keras.layers.Conv2D(64,(3,3),activation='relu',input_shape=(28,28,1)),\n",
        "                                      tf.keras.layers.MaxPooling2D(2,2),\n",
        "                                      tf.keras.layers.Conv2D(64,(3,3),activation='relu'),\n",
        "                                      tf.keras.layers.MaxPooling2D(2,2),\n",
        "                                      tf.keras.layers.Flatten(),\n",
        "                                      tf.keras.layers.Dense(128,activation='relu'),\n",
        "                                      tf.keras.layers.Dense(10,activation='softmax')\n",
        "  ]) \n",
        "\n",
        "  model.compile(optimizer= 'adam',loss='sparse_categorical_crossentropy',metrics=['accuracy'])\n",
        "\n",
        "  history = model.fit(train_images,train_labels,epochs=20, callbacks= [callbacks])\n",
        "  return history.epoch,history.history['accuracy'][-1]"
      ],
      "execution_count": 10,
      "outputs": []
    },
    {
      "cell_type": "code",
      "metadata": {
        "id": "4q4UKQPI7ynG",
        "colab_type": "code",
        "colab": {
          "base_uri": "https://localhost:8080/",
          "height": 425
        },
        "outputId": "66490149-2826-4022-aaf3-681e9b6dfb8b"
      },
      "source": [
        "_,_ = train_mnist_conv() "
      ],
      "execution_count": 11,
      "outputs": [
        {
          "output_type": "stream",
          "text": [
            "Epoch 1/20\n",
            "1875/1875 [==============================] - 77s 41ms/step - loss: 0.1238 - accuracy: 0.9611\n",
            "Epoch 2/20\n",
            "1875/1875 [==============================] - 77s 41ms/step - loss: 0.0416 - accuracy: 0.9870\n",
            "Epoch 3/20\n",
            "1875/1875 [==============================] - 76s 41ms/step - loss: 0.0289 - accuracy: 0.9910\n",
            "Epoch 4/20\n",
            "1875/1875 [==============================] - 76s 41ms/step - loss: 0.0193 - accuracy: 0.9938\n",
            "Epoch 5/20\n",
            "1875/1875 [==============================] - 77s 41ms/step - loss: 0.0151 - accuracy: 0.9953\n",
            "Epoch 6/20\n",
            "1875/1875 [==============================] - 77s 41ms/step - loss: 0.0119 - accuracy: 0.9961\n",
            "Epoch 7/20\n",
            "1875/1875 [==============================] - 76s 41ms/step - loss: 0.0099 - accuracy: 0.9969\n",
            "Epoch 8/20\n",
            "1875/1875 [==============================] - 76s 41ms/step - loss: 0.0081 - accuracy: 0.9973\n",
            "Epoch 9/20\n",
            "1875/1875 [==============================] - 77s 41ms/step - loss: 0.0065 - accuracy: 0.9977\n",
            "Epoch 10/20\n",
            "1875/1875 [==============================] - 77s 41ms/step - loss: 0.0069 - accuracy: 0.9977\n",
            "Epoch 11/20\n",
            "1875/1875 [==============================] - ETA: 0s - loss: 0.0052 - accuracy: 0.9984\n",
            " Reached 99.8% accuracy so cancelling training!\n",
            "1875/1875 [==============================] - 78s 41ms/step - loss: 0.0052 - accuracy: 0.9984\n"
          ],
          "name": "stdout"
        }
      ]
    },
    {
      "cell_type": "markdown",
      "metadata": {
        "id": "F30zKrvGA04C",
        "colab_type": "text"
      },
      "source": [
        "# It can be seen that the addition of convolution layers made the accuracies reach up to the best level..."
      ]
    }
  ]
}